import time
import requests
from pytube import YouTube

from bs4 import BeautifulSoup
link_update="str"
while True:
    try:
        r=requests.get("https://www.youtube.com/results?search_query=bloomberg+live+india")
    except:
        print(r.status_code)
        print("Link is not accessible please try again later!")
    c=r.text
    soup=BeautifulSoup(c,"html.parser")
    link=soup.find_all('a',{"class":" yt-uix-sessionlink spf-link "})
    if link and str(link[1].get('href'))[1] is 'w':
        if link[1].get('href') is not link_update:
            yt = YouTube('http://youtube.com'+str(link[1].get('href')))
            yt.streams.filter(progressive=True, file_extension='mp4').order_by('resolution')[-1].download()
            link_update=str(link[1].get('href'))
    
            


    
